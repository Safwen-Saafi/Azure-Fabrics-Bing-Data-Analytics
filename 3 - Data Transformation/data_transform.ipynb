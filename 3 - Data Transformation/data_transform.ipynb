{
 "cells": [
  {
   "cell_type": "markdown",
   "metadata": {},
   "source": [
    "## Read the JSON File as DataFrame"
   ]
  },
  {
   "cell_type": "code",
   "execution_count": null,
   "metadata": {},
   "outputs": [],
   "source": [
    "df = spark.read.option(\"multiline\", \"true\").json(\"Files/bing-latest-news.json\")"
   ]
  },
  {
   "cell_type": "code",
   "execution_count": null,
   "metadata": {},
   "outputs": [],
   "source": [
    "display(df)"
   ]
  },
  {
   "cell_type": "markdown",
   "metadata": {
    "vscode": {
     "languageId": "plaintext"
    }
   },
   "source": [
    "## Select just the values column"
   ]
  },
  {
   "cell_type": "code",
   "execution_count": null,
   "metadata": {},
   "outputs": [],
   "source": [
    "df = df.select(\"value\")"
   ]
  },
  {
   "cell_type": "markdown",
   "metadata": {},
   "source": [
    "## Explode the JSON Column"
   ]
  },
  {
   "cell_type": "code",
   "execution_count": null,
   "metadata": {},
   "outputs": [],
   "source": [
    "from pyspark.sql.functions import explode\n",
    "df_exploded = df.select(explode(df[\"value\"]).alias(\"json_object\"))"
   ]
  },
  {
   "cell_type": "code",
   "execution_count": null,
   "metadata": {},
   "outputs": [],
   "source": [
    "display(df_exploded)"
   ]
  },
  {
   "cell_type": "markdown",
   "metadata": {},
   "source": [
    "## Convert the Exploded JSON Format into a single JSON String list"
   ]
  },
  {
   "cell_type": "code",
   "execution_count": null,
   "metadata": {},
   "outputs": [],
   "source": [
    "json_list = df_exploded.toJSON().collect()"
   ]
  },
  {
   "cell_type": "markdown",
   "metadata": {},
   "source": [
    "## Testing the json string list"
   ]
  },
  {
   "cell_type": "code",
   "execution_count": null,
   "metadata": {},
   "outputs": [],
   "source": [
    "print(json_list)"
   ]
  },
  {
   "cell_type": "code",
   "execution_count": null,
   "metadata": {},
   "outputs": [],
   "source": [
    "import json\n",
    "\n",
    "news_json = json.loads(json_list[1]) #Converting the JSON string to a JSON dictionary\n",
    "#print(news_json)\n",
    "#print(news_json[\"json_object\"][\"name\"])\n",
    "#print(news_json[\"json_object\"][\"category\"])"
   ]
  },
  {
   "cell_type": "markdown",
   "metadata": {},
   "source": [
    "## List Initialization and JSON Processing"
   ]
  },
  {
   "cell_type": "code",
   "execution_count": null,
   "metadata": {},
   "outputs": [],
   "source": [
    "title = []\n",
    "description = []\n",
    "category = []\n",
    "url =[]\n",
    "image = []\n",
    "provider = []\n",
    "datePublished =[]\n",
    "\n",
    "# Process each JSON object in the list\n",
    "for json_str in json_list:\n",
    "    try:\n",
    "        # Parse the JSON string into a dictionary\n",
    "        article = json.loads(json_str)\n",
    "        \n",
    "        if article[\"json_object\"].get(\"category\") and article[\"json_object\"].get(\"image\", {}).get(\"thumbnail\", {}).get(\"contentUrl\"):\n",
    "            \n",
    "            #Extract information from the dictionary\n",
    "            title.append(article[\"json_object\"][\"name\"])\n",
    "            description.append(article[\"json_object\"][\"description\"])\n",
    "            category.append(article[\"json_object\"][\"category\"])\n",
    "            url.append(article[\"json_object\"][\"url\"])\n",
    "            image.append(article[\"json_object\"][\"image\"][\"thumbnail\"][\"contentUrl\"])\n",
    "            provider.append(article[\"json_object\"][\"provider\"][0]['name'])\n",
    "            datePublished.append(article[\"json_object\"][\"datePublished\"])\n",
    "            \n",
    "    except Exception as e:\n",
    "        print(f\"Error processing JSON object: {e}\")"
   ]
  },
  {
   "cell_type": "markdown",
   "metadata": {},
   "source": [
    "## Converting the List to a Dataframe"
   ]
  },
  {
   "cell_type": "code",
   "execution_count": null,
   "metadata": {},
   "outputs": [],
   "source": [
    "from pyspark.sql.types import StructType, StructField, StringType\n",
    "\n",
    "# Combine the lists\n",
    "data = list(zip(title,description,category,url,image,provider,datePublished))\n",
    "\n",
    "# Define schema\n",
    "schema = StructType([\n",
    "    StructField(\"title\", StringType(), True),\n",
    "    StructField(\"description\", StringType(), True),\n",
    "    StructField(\"category\", StringType(), True),\n",
    "    StructField(\"url\", StringType(), True),\n",
    "    StructField(\"image\", StringType(), True),\n",
    "    StructField(\"provider\", StringType(), True),\n",
    "    StructField(\"datePublished\", StringType(), True)\n",
    "])\n",
    "\n",
    "# Create DataFrame\n",
    "df_cleaned = spark.createDataFrame(data, schema=schema)"
   ]
  },
  {
   "cell_type": "code",
   "execution_count": null,
   "metadata": {},
   "outputs": [],
   "source": [
    "display(df_cleaned.limit(5))"
   ]
  },
  {
   "cell_type": "markdown",
   "metadata": {},
   "source": [
    "## Processing the Date column"
   ]
  },
  {
   "cell_type": "code",
   "execution_count": null,
   "metadata": {},
   "outputs": [],
   "source": [
    "from pyspark.sql.functions import to_date, date_format\n",
    "\n",
    "df_cleaned_final = df_cleaned.withColumn(\"datePublished\", date_format(to_date(\"datePublished\"), \"dd-MMM-yyyy\"))"
   ]
  },
  {
   "cell_type": "markdown",
   "metadata": {},
   "source": [
    "## Display Results"
   ]
  },
  {
   "cell_type": "code",
   "execution_count": null,
   "metadata": {},
   "outputs": [],
   "source": [
    "display(df_cleaned_final.limit(5))"
   ]
  },
  {
   "cell_type": "markdown",
   "metadata": {},
   "source": [
    "## Writing the Final Dataframe to the Lakehouse DB in a Delta format"
   ]
  },
  {
   "cell_type": "code",
   "execution_count": null,
   "metadata": {},
   "outputs": [],
   "source": [
    "df_cleaned_final.write.format(\"delta\").saveAsTable(\"bing_lake_db.test\")"
   ]
  }
 ],
 "metadata": {
  "language_info": {
   "name": "python"
  }
 },
 "nbformat": 4,
 "nbformat_minor": 2
}
