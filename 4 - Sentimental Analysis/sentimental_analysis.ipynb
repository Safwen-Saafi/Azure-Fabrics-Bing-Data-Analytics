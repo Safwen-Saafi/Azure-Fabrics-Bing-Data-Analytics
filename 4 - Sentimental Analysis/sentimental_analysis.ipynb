{
 "cells": [
  {
   "cell_type": "markdown",
   "metadata": {},
   "source": [
    "## Import Synapse ML"
   ]
  },
  {
   "cell_type": "code",
   "execution_count": null,
   "metadata": {},
   "outputs": [],
   "source": [
    "import synapse.ml.core\n",
    "from synapse.ml.services import AnalyzeText"
   ]
  },
  {
   "cell_type": "markdown",
   "metadata": {},
   "source": [
    "## Query Data"
   ]
  },
  {
   "cell_type": "code",
   "execution_count": null,
   "metadata": {},
   "outputs": [],
   "source": [
    "df = spark.sql(\"SELECT * FROM bing_lake_db.tbl_latest_news\")\n",
    "display(df)"
   ]
  },
  {
   "cell_type": "markdown",
   "metadata": {},
   "source": [
    "## Configure Sentiment Analysis Model"
   ]
  },
  {
   "cell_type": "code",
   "execution_count": null,
   "metadata": {},
   "outputs": [],
   "source": [
    "#Import the model and configure the input and output columns\n",
    "model = (AnalyzeText()\n",
    "    .setTextCol(\"description\")\n",
    "    .setKind(\"SentimentAnalysis\") ## Can be changed to any othe rtext related purpose like detecting language\n",
    "    .setOutputCol(\"response\")\n",
    "    .setErrorCol(\"error\"))"
   ]
  },
  {
   "cell_type": "markdown",
   "metadata": {},
   "source": [
    "## Apply Model"
   ]
  },
  {
   "cell_type": "code",
   "execution_count": null,
   "metadata": {},
   "outputs": [],
   "source": [
    "#Apply the model to our dataframe\n",
    "result = model.transform(df)\n",
    "display(result)"
   ]
  },
  {
   "cell_type": "markdown",
   "metadata": {},
   "source": [
    "## Create Sentiment Column"
   ]
  },
  {
   "cell_type": "code",
   "execution_count": null,
   "metadata": {},
   "outputs": [],
   "source": [
    "#Create Sentiment Column\n",
    "from pyspark.sql.functions import col\n",
    "\n",
    "sentiment_df = result.withColumn(\"sentiment\", col(\"response.documents.sentiment\"))"
   ]
  },
  {
   "cell_type": "markdown",
   "metadata": {},
   "source": [
    "## Drop Columns (Original Description, Error) plus Display"
   ]
  },
  {
   "cell_type": "code",
   "execution_count": null,
   "metadata": {},
   "outputs": [],
   "source": [
    "sentiment_df_final = sentiment_df.drop(\"error\",\"response\")\n",
    "display(sentiment_df_final)"
   ]
  },
  {
   "cell_type": "markdown",
   "metadata": {},
   "source": [
    "## Convert the date Published to Date Format"
   ]
  },
  {
   "cell_type": "code",
   "execution_count": null,
   "metadata": {},
   "outputs": [],
   "source": [
    "from pyspark.sql.functions import col, to_date\n",
    "sentiment_df_final = sentiment_df_final.withColumn(\"datePublished\", to_date(col(\"datePublished\"), \"dd-MMM-yyyy\"))"
   ]
  },
  {
   "cell_type": "markdown",
   "metadata": {},
   "source": [
    "## Write to Delta Table with Merge Logic Type 1"
   ]
  },
  {
   "cell_type": "code",
   "execution_count": null,
   "metadata": {},
   "outputs": [],
   "source": [
    "from pyspark.sql.utils import AnalysisException\n",
    "\n",
    "try:\n",
    "    table_name = 'bing_lake_db.tbl_sentiment_analysis'\n",
    "    \n",
    "    sentiment_df_final.write.format(\"delta\").saveAsTable(table_name)\n",
    "    \n",
    "except AnalysisException:\n",
    "    print(\"Table Already Exists\")\n",
    "    \n",
    "    sentiment_df_final.createOrReplaceTempView(\"vw_sentiment_df_final\")\n",
    "    \n",
    "    spark.sql(f\"\"\" MERGE INTO {table_name} target_table\n",
    "                  USING vw_sentiment_df_final source_view\n",
    "                  ON source_view.url = target_table.url\n",
    "                  \n",
    "                  WHEN MATCHED AND\n",
    "                  source_view.title <> target_table.title OR\n",
    "                  source_view.description <> target_table.description OR\n",
    "                  source_view.category <> target_table.category OR\n",
    "                  source_view.image <> target_table.image OR\n",
    "                  source_view.provider <> target_table.provider OR\n",
    "                  source_view.datePublished <> target_table.datePublished\n",
    "                  \n",
    "                  THEN UPDATE SET *\n",
    "                  \n",
    "                  WHEN NOT MATCHED THEN INSERT *\n",
    "              \"\"\")"
   ]
  }
 ],
 "metadata": {
  "language_info": {
   "name": "python"
  }
 },
 "nbformat": 4,
 "nbformat_minor": 2
}
